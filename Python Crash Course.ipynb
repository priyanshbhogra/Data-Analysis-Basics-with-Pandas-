{
 "cells": [
  {
   "cell_type": "markdown",
   "id": "seventh-structure",
   "metadata": {},
   "source": [
    "5 + 3"
   ]
  },
  {
   "cell_type": "code",
   "execution_count": 1,
   "id": "editorial-stamp",
   "metadata": {},
   "outputs": [
    {
     "data": {
      "text/plain": [
       "8"
      ]
     },
     "execution_count": 1,
     "metadata": {},
     "output_type": "execute_result"
    }
   ],
   "source": [
    "#Basic data types of integer and adding them below\n",
    "5 + 3"
   ]
  },
  {
   "cell_type": "code",
   "execution_count": 2,
   "id": "bulgarian-window",
   "metadata": {},
   "outputs": [
    {
     "data": {
      "text/plain": [
       "6.28"
      ]
     },
     "execution_count": 2,
     "metadata": {},
     "output_type": "execute_result"
    }
   ],
   "source": [
    "#Adding Boolean Values\n",
    "3.14 + 3.14"
   ]
  },
  {
   "cell_type": "code",
   "execution_count": 3,
   "id": "static-progressive",
   "metadata": {},
   "outputs": [
    {
     "data": {
      "text/plain": [
       "'Super Bowl LV'"
      ]
     },
     "execution_count": 3,
     "metadata": {},
     "output_type": "execute_result"
    }
   ],
   "source": [
    "#Concatenating a String\n",
    "\"Super\" + \" Bowl\" + \" LV\""
   ]
  },
  {
   "cell_type": "code",
   "execution_count": 4,
   "id": "removable-camel",
   "metadata": {},
   "outputs": [
    {
     "data": {
      "text/plain": [
       "23"
      ]
     },
     "execution_count": 4,
     "metadata": {},
     "output_type": "execute_result"
    }
   ],
   "source": [
    "#PEMDAS \n",
    "#Parenthesis Exponents Multiplication Division Addition Subtraction\n",
    "3+ 4 * 5"
   ]
  },
  {
   "cell_type": "code",
   "execution_count": 5,
   "id": "weird-great",
   "metadata": {},
   "outputs": [
    {
     "data": {
      "text/plain": [
       "2"
      ]
     },
     "execution_count": 5,
     "metadata": {},
     "output_type": "execute_result"
    }
   ],
   "source": [
    "#Modulus Operator - gives out the remainder\n",
    "\n",
    "14 % 3"
   ]
  },
  {
   "cell_type": "code",
   "execution_count": 6,
   "id": "czech-cancer",
   "metadata": {},
   "outputs": [
    {
     "data": {
      "text/plain": [
       "4"
      ]
     },
     "execution_count": 6,
     "metadata": {},
     "output_type": "execute_result"
    }
   ],
   "source": [
    "#Basically divides but gives the floor value without decimals\n",
    "\n",
    "14 // 3 "
   ]
  },
  {
   "cell_type": "code",
   "execution_count": 7,
   "id": "tough-basketball",
   "metadata": {},
   "outputs": [
    {
     "data": {
      "text/plain": [
       "False"
      ]
     },
     "execution_count": 7,
     "metadata": {},
     "output_type": "execute_result"
    }
   ],
   "source": [
    "#Equality Operator | Is something equal to something\n",
    "#Also applies to string. Every character must match though and case sensitivity matters.\n",
    "3 == 5\n",
    "\n",
    "#The inverse of this is the inequality operator !="
   ]
  },
  {
   "cell_type": "code",
   "execution_count": 8,
   "id": "compact-trance",
   "metadata": {
    "scrolled": true
   },
   "outputs": [
    {
     "name": "stdout",
     "output_type": "stream",
     "text": [
      "26\n"
     ]
    }
   ],
   "source": [
    "#Declaring a variable and basically using variables | a data type is assigned to a variable depending upon what you \n",
    "#initialize the variable as\n",
    "#The reason it's called a variable because it is subject to change according to our code \n",
    "age = 26\n",
    "print(age)"
   ]
  },
  {
   "cell_type": "code",
   "execution_count": 9,
   "id": "painful-briefing",
   "metadata": {},
   "outputs": [
    {
     "name": "stdout",
     "output_type": "stream",
     "text": [
      "26\n"
     ]
    }
   ],
   "source": [
    "age + 5\n",
    "print(age)"
   ]
  },
  {
   "cell_type": "code",
   "execution_count": 10,
   "id": "worth-cabin",
   "metadata": {},
   "outputs": [
    {
     "data": {
      "text/plain": [
       "31"
      ]
     },
     "execution_count": 10,
     "metadata": {},
     "output_type": "execute_result"
    }
   ],
   "source": [
    "age + 5"
   ]
  },
  {
   "cell_type": "code",
   "execution_count": 11,
   "id": "running-irrigation",
   "metadata": {},
   "outputs": [
    {
     "data": {
      "text/plain": [
       "26"
      ]
     },
     "execution_count": 11,
     "metadata": {},
     "output_type": "execute_result"
    }
   ],
   "source": [
    "#Built In Python Functions\n",
    "#len --> calculates all the characters in the input or the argument \n",
    "\n",
    "len('My name is Priyansh Bhogra')"
   ]
  },
  {
   "cell_type": "code",
   "execution_count": 12,
   "id": "deluxe-lawsuit",
   "metadata": {},
   "outputs": [
    {
     "data": {
      "text/plain": [
       "'3.14'"
      ]
     },
     "execution_count": 12,
     "metadata": {},
     "output_type": "execute_result"
    }
   ],
   "source": [
    "#str --> accepts an argument and converts it into a string format\n",
    "\n",
    "str(3.14)"
   ]
  },
  {
   "cell_type": "code",
   "execution_count": 13,
   "id": "cutting-globe",
   "metadata": {},
   "outputs": [
    {
     "data": {
      "text/plain": [
       "10"
      ]
     },
     "execution_count": 13,
     "metadata": {},
     "output_type": "execute_result"
    }
   ],
   "source": [
    "#int --> accepts an argument and converts the input argument into integer format\n",
    "\n",
    "int('10')"
   ]
  },
  {
   "cell_type": "code",
   "execution_count": 14,
   "id": "executive-drama",
   "metadata": {},
   "outputs": [
    {
     "data": {
      "text/plain": [
       "9.346"
      ]
     },
     "execution_count": 14,
     "metadata": {},
     "output_type": "execute_result"
    }
   ],
   "source": [
    "#float --> accepts an argument and converts the input argument into float format and returns a floating point number\n",
    "\n",
    "float('9.346')"
   ]
  },
  {
   "cell_type": "code",
   "execution_count": 15,
   "id": "killing-branch",
   "metadata": {},
   "outputs": [
    {
     "data": {
      "text/plain": [
       "int"
      ]
     },
     "execution_count": 15,
     "metadata": {},
     "output_type": "execute_result"
    }
   ],
   "source": [
    "#type --> accepts any number, string, boolean and tells you what kind of format type it is\n",
    "#utility operations used to convert or find out what kind of a type function might be\n",
    "\n",
    "type(age)"
   ]
  },
  {
   "cell_type": "code",
   "execution_count": 16,
   "id": "basic-server",
   "metadata": {},
   "outputs": [
    {
     "data": {
      "text/plain": [
       "True"
      ]
     },
     "execution_count": 16,
     "metadata": {},
     "output_type": "execute_result"
    }
   ],
   "source": [
    "#evaluating whether the data type of 10 is the same as that of 15, it is not evaluating whether 10 = 15\n",
    "\n",
    "type (10) == type (15)"
   ]
  },
  {
   "cell_type": "code",
   "execution_count": 17,
   "id": "infinite-survivor",
   "metadata": {},
   "outputs": [],
   "source": [
    "#Custom Functions\n",
    "#Declare a function that accepts a temperature in celsius and returns it in fahrenheit\n",
    "\n",
    "def convert_to_fahrenheit(temp_celsius):\n",
    "    product = temp_celsius * 1.8\n",
    "    return product + 32\n"
   ]
  },
  {
   "cell_type": "code",
   "execution_count": 18,
   "id": "suffering-elder",
   "metadata": {},
   "outputs": [
    {
     "data": {
      "text/plain": [
       "60.8"
      ]
     },
     "execution_count": 18,
     "metadata": {},
     "output_type": "execute_result"
    }
   ],
   "source": [
    "convert_to_fahrenheit(16) #implicitly passing the celsius temperature in the input argument, this parameter is mandatory"
   ]
  },
  {
   "cell_type": "code",
   "execution_count": 22,
   "id": "incorporated-timber",
   "metadata": {},
   "outputs": [],
   "source": [
    "%config Completer.use_jedi = False"
   ]
  },
  {
   "cell_type": "code",
   "execution_count": 20,
   "id": "imposed-democrat",
   "metadata": {},
   "outputs": [
    {
     "data": {
      "text/plain": [
       "32.0"
      ]
     },
     "execution_count": 20,
     "metadata": {},
     "output_type": "execute_result"
    }
   ],
   "source": [
    "convert_to_fahrenheit(0)"
   ]
  },
  {
   "cell_type": "code",
   "execution_count": 23,
   "id": "emotional-advice",
   "metadata": {},
   "outputs": [],
   "source": [
    "profession = 'Developer'"
   ]
  },
  {
   "cell_type": "code",
   "execution_count": 47,
   "id": "controversial-executive",
   "metadata": {},
   "outputs": [
    {
     "name": "stdout",
     "output_type": "stream",
     "text": [
      "DEVELOPER\n",
      "developer\n",
      "dEVELOPER\n",
      "Once Upon A Time\n",
      "Once upon a time\n",
      "CHIEFS      W\n",
      "          CHIEFS\n",
      "CHIEFS\n",
      "Dxvxlopxr\n"
     ]
    },
    {
     "data": {
      "text/plain": [
       "False"
      ]
     },
     "execution_count": 47,
     "metadata": {},
     "output_type": "execute_result"
    }
   ],
   "source": [
    "print(profession.upper()) #converts the variable into UPPER case\n",
    "\n",
    "print(profession.lower()) #converts the variable into lOWER case\n",
    "\n",
    "print(profession.swapcase()) #converts the casing to the opposite case, if a letter is in uppercase \n",
    "#it's converted to lower case and vice versa\n",
    "\n",
    "# A string is immutable i.e. it cannot be changed, the original string will be unaffected\n",
    "\n",
    "print('once upon a time'.title()) #capitalises the first letter of every word of string passed in the print function\n",
    "\n",
    "print('once upon a time'.capitalize()) #capitalize the first letter of the string only\n",
    "\n",
    "print('          CHIEFS      W'.lstrip()) #strips all the white space from the beginning or the left side\n",
    "\n",
    "print('          CHIEFS       '.rstrip()) #strips all the white space from the right side\n",
    "\n",
    "print('      CHIEFS      '.strip()) #strips all the white spaces from either sides\n",
    "\n",
    "print(profession.replace('e', 'x')) #searches for the character you want to replace and replaces it with the\n",
    "#the one you specify\n",
    "\n",
    "profession.startswith('De') #checks whether a particular string starts with the argument passed; is case sensitive\n",
    "\n",
    "profession.endswith('or') #checks whether a particular string ends with the argument passed; again is case sensitive\n",
    "\n",
    "'eve' in profession #checks whether 'eve' occurs in the profession string \n",
    "\n",
    "'D' not in profession #checks whether 'z' not in profession"
   ]
  },
  {
   "cell_type": "code",
   "execution_count": 27,
   "id": "knowing-superintendent",
   "metadata": {},
   "outputs": [
    {
     "data": {
      "text/plain": [
       "'developer'"
      ]
     },
     "execution_count": 27,
     "metadata": {},
     "output_type": "execute_result"
    }
   ],
   "source": [
    "profession.lower()"
   ]
  },
  {
   "cell_type": "code",
   "execution_count": 66,
   "id": "federal-hamilton",
   "metadata": {
    "scrolled": true
   },
   "outputs": [
    {
     "name": "stdout",
     "output_type": "stream",
     "text": [
      "[1, 2, 4, 5] \n",
      "\n",
      "['Riddhima', 'Riya', 'Priyansh'] \n",
      "\n",
      "['Mahomes', 'Kelce', 'Hill', 'Matheiu', 'Clarke']\n",
      "['Mahomes', 'Kelce', 'Hill', 'Matheiu', 'Clarke', 'Jones']\n",
      "['Mahomes', 'Kelce', 'Hill', 'Matheiu', 'Clarke']\n",
      "['Mahomes', 'Kelce', 'Hill', 'Matheiu']\n"
     ]
    },
    {
     "data": {
      "text/plain": [
       "True"
      ]
     },
     "execution_count": 66,
     "metadata": {},
     "output_type": "execute_result"
    }
   ],
   "source": [
    "#LISTS --> Mutable data structures that hold an ordered collection of elements, is stored within square brackets\n",
    "#data types in a list should be homogenous, it is just a good practice to follow\n",
    "\n",
    "list1 = [1, 2, 4, 5]\n",
    "print(list1, '\\n')\n",
    "\n",
    "list2 = ['Riddhima', 'Riya', 'Priyansh']\n",
    "print(list2, '\\n')\n",
    "\n",
    "Cheifs_Squad = ['Mahomes', 'Kelce', 'Hill', 'Matheiu', 'Clarke']\n",
    "print(Cheifs_Squad)\n",
    "\n",
    "Cheifs_Squad.append('Jones') #Append accepts an argument that is added to the end of the list or appended to the list\n",
    "#we are adding on, this gets added to the end of the list, we aren't creating a new list\n",
    "print(Cheifs_Squad) \n",
    "\n",
    "Cheifs_Squad.pop() #last list element is deleted, shrinks the list\n",
    "print(Cheifs_Squad)\n",
    "\n",
    "Cheifs_Squad.remove('Clarke') #will remove the input passed in the argument of the function, \n",
    "#will only remove the first occurence\n",
    "print(Cheifs_Squad)\n",
    "\n",
    "\"Hill\" in Cheifs_Squad #checks whether the input exists in the list or not; the output will be a Boolean function\n",
    "#case sensitivity matters\n",
    "\n"
   ]
  },
  {
   "cell_type": "code",
   "execution_count": 76,
   "id": "european-superior",
   "metadata": {},
   "outputs": [
    {
     "name": "stdout",
     "output_type": "stream",
     "text": [
      "Captain America\n",
      "Hulk\n",
      "['Spider Man', 'Captain America']\n",
      "rick M\n"
     ]
    }
   ],
   "source": [
    "#Index Positioning\n",
    "#index count starts from 0, final index position = len-1\n",
    "\n",
    "marvel = ['Iron Man', 'Spider Man', 'Captain America', 'Thor', 'Hulk', 'Black Widow']\n",
    "\n",
    "#if I want to retrive Captain America, I will pass 2 \n",
    "print(marvel[2])\n",
    "\n",
    "#If we want to start from the end, we use negative number starting -1, below we try retrieving Hulk\n",
    "print(marvel[-2])\n",
    "\n",
    "\n",
    "#Slicing --> pulling more than one elements from the list\n",
    "\n",
    "print(marvel[1:3]) #first number is start position(inclusive) i.e. the element at the first index position of the string is inclusive\n",
    "#second number is upto 3rd position (exclusive)so, as we see below Thor in the 3rd index position is not included \n",
    "#in the list\n",
    "\n",
    "#Same rules apply to a string\n",
    "\n",
    "mvp = 'Patrick Mahomes'\n",
    "print(mvp[3:9])\n",
    "\n"
   ]
  },
  {
   "cell_type": "code",
   "execution_count": 91,
   "id": "instructional-blocking",
   "metadata": {},
   "outputs": [
    {
     "name": "stdout",
     "output_type": "stream",
     "text": [
      "{'Tempeh Burrito': 8.95, 'Mutton Biryani': 13.99, 'Pizza': 5.99, 'New York Style Cheesecake': 4.95}\n",
      "4\n",
      "The price for a Pizza is $ 5.99\n",
      "{'Tempeh Burrito': 8.95, 'Mutton Biryani': 13.99, 'Pizza': 5.99, 'New York Style Cheesecake': 4.95, 'Tacos': 7.99}\n",
      "{'Tempeh Burrito': 8.95, 'Mutton Biryani': 13.99, 'Pizza': 7.99, 'New York Style Cheesecake': 4.95, 'Tacos': 7.99}\n"
     ]
    }
   ],
   "source": [
    "#Dictionary --> is basically an unordered collection of key-value pairs\n",
    "#We are creating associations between two pieces of data\n",
    "#The KEY in the dictionary is a unique identifier for its VALUE pair; they keys must be unique but the values can be duplicate\n",
    "#A dictionary should be not assumed to be in order; enclosed between {}\n",
    "#Dictionary is mutable; so key value pairs can be added and deleted\n",
    "\n",
    "restaurant_menu = {\n",
    "                    \"Tempeh Burrito\" : 8.95,\n",
    "                    \"Mutton Biryani\" : 13.99,\n",
    "                    \"Pizza\" : 5.99,\n",
    "                    \"New York Style Cheesecake\" : 4.95\n",
    "}\n",
    "\n",
    "print(restaurant_menu)\n",
    "\n",
    "print(len(restaurant_menu))\n",
    "\n",
    "print('The price for a Pizza is $', restaurant_menu['Pizza']) #retrieving the value associated with 'Pizza' key\n",
    "\n",
    "#Appending a new item in the dictionary below:\n",
    "restaurant_menu[\"Tacos\"] = 7.99\n",
    "\n",
    "print(restaurant_menu)\n",
    "\n",
    "#Overwriting or editing an existing key value pair:\n",
    "restaurant_menu[\"Pizza\"] = 7.99\n",
    "\n",
    "print(restaurant_menu)"
   ]
  },
  {
   "cell_type": "code",
   "execution_count": 92,
   "id": "unusual-observer",
   "metadata": {},
   "outputs": [
    {
     "data": {
      "text/plain": [
       "{'Tempeh Burrito': 8.95,\n",
       " 'Mutton Biryani': 13.99,\n",
       " 'Pizza': 7.99,\n",
       " 'New York Style Cheesecake': 4.95,\n",
       " 'Tacos': 7.99}"
      ]
     },
     "execution_count": 92,
     "metadata": {},
     "output_type": "execute_result"
    }
   ],
   "source": [
    "restaurant_menu"
   ]
  },
  {
   "cell_type": "code",
   "execution_count": 93,
   "id": "moving-marker",
   "metadata": {},
   "outputs": [
    {
     "data": {
      "text/plain": [
       "True"
      ]
     },
     "execution_count": 93,
     "metadata": {},
     "output_type": "execute_result"
    }
   ],
   "source": [
    "\"Pizza\" in restaurant_menu #checking whether \"Pizza\" is one of the keys; will return Bool value"
   ]
  },
  {
   "cell_type": "code",
   "execution_count": null,
   "id": "above-trance",
   "metadata": {},
   "outputs": [],
   "source": []
  }
 ],
 "metadata": {
  "kernelspec": {
   "display_name": "Python 3",
   "language": "python",
   "name": "python3"
  },
  "language_info": {
   "codemirror_mode": {
    "name": "ipython",
    "version": 3
   },
   "file_extension": ".py",
   "mimetype": "text/x-python",
   "name": "python",
   "nbconvert_exporter": "python",
   "pygments_lexer": "ipython3",
   "version": "3.8.5"
  }
 },
 "nbformat": 4,
 "nbformat_minor": 5
}
