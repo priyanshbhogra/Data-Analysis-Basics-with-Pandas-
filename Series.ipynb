{
 "cells": [
  {
   "cell_type": "code",
   "execution_count": 2,
   "id": "upper-brother",
   "metadata": {},
   "outputs": [],
   "source": [
    "import pandas as pd"
   ]
  },
  {
   "cell_type": "code",
   "execution_count": 4,
   "id": "desirable-sally",
   "metadata": {},
   "outputs": [],
   "source": [
    "%config Completer.use_jedi = False"
   ]
  },
  {
   "cell_type": "markdown",
   "id": "planned-crawford",
   "metadata": {},
   "source": [
    "CREATING A SERIES OBJECT FROM A PYTHON LIST\n",
    "\n",
    "A pandas series is a one dimensional labelled array; \n",
    "more powerful version of a Python list; \n",
    "stores data in a sequenced order; \n",
    "One dimensional data, like one column of information;\n",
    "Consistency is the key; should contain only one consistent data type; the data type should stay the same in the series"
   ]
  },
  {
   "cell_type": "code",
   "execution_count": 6,
   "id": "engaged-mailing",
   "metadata": {},
   "outputs": [
    {
     "data": {
      "text/plain": [
       "0         Buffalo Bills\n",
       "1      Cleveland Browns\n",
       "2    Indianapolis Colts\n",
       "3    Kansas City Cheifs\n",
       "dtype: object"
      ]
     },
     "execution_count": 6,
     "metadata": {},
     "output_type": "execute_result"
    }
   ],
   "source": [
    "afc_teams = ['Buffalo Bills', 'Cleveland Browns', 'Indianapolis Colts', 'Kansas City Cheifs']\n",
    "\n",
    "pd.Series(afc_teams) #Series is a constructor method that builds the list into a Pandas series\n",
    "\n",
    "#dtype --> data type"
   ]
  },
  {
   "cell_type": "code",
   "execution_count": 7,
   "id": "sustained-negotiation",
   "metadata": {},
   "outputs": [
    {
     "data": {
      "text/plain": [
       "0    29\n",
       "1    11\n",
       "2    30\n",
       "3     7\n",
       "4    24\n",
       "5    11\n",
       "dtype: int64"
      ]
     },
     "execution_count": 7,
     "metadata": {},
     "output_type": "execute_result"
    }
   ],
   "source": [
    "int_list = [29, 11, 30, 7, 24, 11]\n",
    "\n",
    "pd.Series(int_list) #we did not specify any index label, that's why Pandas specifies it as a normal index label"
   ]
  },
  {
   "cell_type": "code",
   "execution_count": 8,
   "id": "liked-intro",
   "metadata": {},
   "outputs": [
    {
     "data": {
      "text/plain": [
       "0     True\n",
       "1    False\n",
       "2    False\n",
       "3    False\n",
       "4     True\n",
       "5     True\n",
       "dtype: bool"
      ]
     },
     "execution_count": 8,
     "metadata": {},
     "output_type": "execute_result"
    }
   ],
   "source": [
    "bool_list = [True, False, False, False, True, True]\n",
    "\n",
    "pd.Series(bool_list)"
   ]
  },
  {
   "cell_type": "markdown",
   "id": "enclosed-spelling",
   "metadata": {},
   "source": [
    "CREATING A SERIES OBJECT FROM A DICTIONARY"
   ]
  },
  {
   "cell_type": "code",
   "execution_count": 10,
   "id": "resident-elizabeth",
   "metadata": {},
   "outputs": [
    {
     "data": {
      "text/plain": [
       "Data Engineer                                      Python, SQL, ETL\n",
       "Software Development Engineer         Python, Frameworks, Databases\n",
       "Software Engineer                C/C++, Data Structures, Algorithms\n",
       "dtype: object"
      ]
     },
     "execution_count": 10,
     "metadata": {},
     "output_type": "execute_result"
    }
   ],
   "source": [
    "profession_list = {\n",
    "                    \"Data Engineer\" : \"Python, SQL, ETL\",\n",
    "                    \"Software Development Engineer\" : \"Python, Frameworks, Databases\",\n",
    "                    \"Software Engineer\" : \"C/C++, Data Structures, Algorithms\"\n",
    "}\n",
    "\n",
    "pd.Series(profession_list)\n",
    "\n",
    "#As you can see below, the keys from the dictionary have been converted into indexes by Pandas"
   ]
  },
  {
   "cell_type": "markdown",
   "id": "commercial-consistency",
   "metadata": {},
   "source": [
    "INTRO TO ATTRIBUTESS:\n",
    "\n",
    "Attributes and Methods go hand in hand; Objects in Python have attributes and methods;\n",
    "Attributes return information about the objects, they deliver some kind of detail about it; Whereas Methods do operate on objects and perform some sort of calculation or manipulation over the object\n"
   ]
  },
  {
   "cell_type": "code",
   "execution_count": 14,
   "id": "opening-congress",
   "metadata": {},
   "outputs": [
    {
     "data": {
      "text/plain": [
       "0     Manchester United\n",
       "1    Tottenham Hotspurs\n",
       "2               Arsenal\n",
       "3               Chelsea\n",
       "4       Manchester City\n",
       "5             Liverpool\n",
       "dtype: object"
      ]
     },
     "execution_count": 14,
     "metadata": {},
     "output_type": "execute_result"
    }
   ],
   "source": [
    "pl_teams = ['Manchester United', 'Tottenham Hotspurs', 'Arsenal', 'Chelsea', 'Manchester City', 'Liverpool']\n",
    "teams = pd.Series(pl_teams)\n",
    "teams"
   ]
  },
  {
   "cell_type": "code",
   "execution_count": 15,
   "id": "static-dayton",
   "metadata": {},
   "outputs": [
    {
     "data": {
      "text/plain": [
       "array(['Manchester United', 'Tottenham Hotspurs', 'Arsenal', 'Chelsea',\n",
       "       'Manchester City', 'Liverpool'], dtype=object)"
      ]
     },
     "execution_count": 15,
     "metadata": {},
     "output_type": "execute_result"
    }
   ],
   "source": [
    "#Accessing attributes for the series constructed above; attributes do not require a parenthesis at the end\n",
    "\n",
    "teams.values #this attribute will return the series as an ARRAY"
   ]
  },
  {
   "cell_type": "code",
   "execution_count": 16,
   "id": "broke-liability",
   "metadata": {},
   "outputs": [
    {
     "data": {
      "text/plain": [
       "RangeIndex(start=0, stop=6, step=1)"
      ]
     },
     "execution_count": 16,
     "metadata": {},
     "output_type": "execute_result"
    }
   ],
   "source": [
    "teams.index #focuses on index component of series and output is an object that is a range index"
   ]
  },
  {
   "cell_type": "markdown",
   "id": "limited-folder",
   "metadata": {},
   "source": [
    "INTRO TO METHODS:\n",
    "\n",
    "Methods basically helps in manipulating the object or performing calculations\n"
   ]
  },
  {
   "cell_type": "code",
   "execution_count": 19,
   "id": "gorgeous-geometry",
   "metadata": {},
   "outputs": [
    {
     "data": {
      "text/plain": [
       "0    23.56\n",
       "1    43.45\n",
       "2    54.32\n",
       "3    89.87\n",
       "dtype: float64"
      ]
     },
     "execution_count": 19,
     "metadata": {},
     "output_type": "execute_result"
    }
   ],
   "source": [
    "float_list = [23.56, 43.45, 54.32, 89.87]\n",
    "\n",
    "float_series = pd.Series(float_list)\n",
    "float_series"
   ]
  },
  {
   "cell_type": "code",
   "execution_count": 20,
   "id": "obvious-shannon",
   "metadata": {},
   "outputs": [
    {
     "data": {
      "text/plain": [
       "211.20000000000002"
      ]
     },
     "execution_count": 20,
     "metadata": {},
     "output_type": "execute_result"
    }
   ],
   "source": [
    "float_series.sum() #gives the sum of the objects in the series;\n",
    "#methods unlike attributes require a set of parenthesis at the end"
   ]
  },
  {
   "cell_type": "code",
   "execution_count": 21,
   "id": "widespread-documentary",
   "metadata": {},
   "outputs": [
    {
     "data": {
      "text/plain": [
       "4997347.728788801"
      ]
     },
     "execution_count": 21,
     "metadata": {},
     "output_type": "execute_result"
    }
   ],
   "source": [
    "float_series.product() #gives the product of all the objects in the series"
   ]
  },
  {
   "cell_type": "code",
   "execution_count": 22,
   "id": "active-venezuela",
   "metadata": {},
   "outputs": [
    {
     "data": {
      "text/plain": [
       "52.800000000000004"
      ]
     },
     "execution_count": 22,
     "metadata": {},
     "output_type": "execute_result"
    }
   ],
   "source": [
    "float_series.mean() #gives the mean of all the objects in the series"
   ]
  },
  {
   "cell_type": "markdown",
   "id": "latin-newman",
   "metadata": {},
   "source": [
    "PARAMETERS AND ARGUMENTS\n",
    "\n",
    "Parameter --> A parameter is a variable defined by a function that receives a value when that function is called\n",
    "Argument --> An argument is a value that is passed at the time of calling a function\n"
   ]
  },
  {
   "cell_type": "code",
   "execution_count": 24,
   "id": "traditional-circumstances",
   "metadata": {},
   "outputs": [
    {
     "data": {
      "text/plain": [
       "System Design                   A&M\n",
       "Advanced Databases          Arizona\n",
       "Accounting Concepts    SUNY Buffalo\n",
       "Data Warehousing       Northeastern\n",
       "dtype: object"
      ]
     },
     "execution_count": 24,
     "metadata": {},
     "output_type": "execute_result"
    }
   ],
   "source": [
    "schools = ['A&M', 'Arizona', 'SUNY Buffalo', 'Northeastern']\n",
    "\n",
    "courses = ['System Design', 'Advanced Databases', 'Accounting Concepts', 'Data Warehousing']\n",
    "\n",
    "pd.Series(schools, courses) #we have passed schools as the data for the series and courses as index"
   ]
  },
  {
   "cell_type": "markdown",
   "id": "incorporate-creation",
   "metadata": {},
   "source": [
    "IMPORT SERIES WITH THE  read_csv METHOD\n",
    "\n",
    "Importing data from a CSV file and storing it in a Pandas Series"
   ]
  },
  {
   "cell_type": "code",
   "execution_count": 35,
   "id": "offensive-worse",
   "metadata": {},
   "outputs": [
    {
     "data": {
      "text/plain": [
       "0       Bulbasaur\n",
       "1         Ivysaur\n",
       "2        Venusaur\n",
       "3      Charmander\n",
       "4      Charmeleon\n",
       "          ...    \n",
       "716       Yveltal\n",
       "717       Zygarde\n",
       "718       Diancie\n",
       "719         Hoopa\n",
       "720     Volcanion\n",
       "Name: Pokemon, Length: 721, dtype: object"
      ]
     },
     "execution_count": 35,
     "metadata": {},
     "output_type": "execute_result"
    }
   ],
   "source": [
    "pokemon = pd.read_csv(\"pandas/pokemon.csv\", usecols = ['Pokemon'], squeeze = True) \n",
    "#using only the Pokemon column, squeezing the data into a series since series can store only one column of data\n",
    "\n",
    "pokemon"
   ]
  },
  {
   "cell_type": "code",
   "execution_count": 40,
   "id": "infrared-merit",
   "metadata": {},
   "outputs": [
    {
     "data": {
      "text/plain": [
       "0        50.12\n",
       "1        54.10\n",
       "2        54.65\n",
       "3        52.38\n",
       "4        52.95\n",
       "         ...  \n",
       "3007    772.88\n",
       "3008    771.07\n",
       "3009    773.18\n",
       "3010    771.61\n",
       "3011    782.22\n",
       "Name: Stock Price, Length: 3012, dtype: float64"
      ]
     },
     "execution_count": 40,
     "metadata": {},
     "output_type": "execute_result"
    }
   ],
   "source": [
    "google_stocks = pd.read_csv(\"pandas/google_stock_price.csv\", usecols = ['Stock Price'], squeeze = True)\n",
    "\n",
    "google_stocks"
   ]
  },
  {
   "cell_type": "markdown",
   "id": "awful-needle",
   "metadata": {},
   "source": [
    "THE .head() and .tail() METHODS"
   ]
  },
  {
   "cell_type": "code",
   "execution_count": 45,
   "id": "certified-legislation",
   "metadata": {},
   "outputs": [
    {
     "data": {
      "text/plain": [
       "0     Bulbasaur\n",
       "1       Ivysaur\n",
       "2      Venusaur\n",
       "3    Charmander\n",
       "4    Charmeleon\n",
       "Name: Pokemon, dtype: object"
      ]
     },
     "execution_count": 45,
     "metadata": {},
     "output_type": "execute_result"
    }
   ],
   "source": [
    "pokemon.head(5) #head method gives us the first five rows of the series (case we want to check what the data looks like)\n",
    "\n",
    "#it returns the first five rows into a new series instead of the original one; creates a brand new shortened series\n",
    "\n",
    "#you can also write in the parenthesis the number of rows you want --> pokemon.head(11)"
   ]
  },
  {
   "cell_type": "code",
   "execution_count": 42,
   "id": "institutional-institute",
   "metadata": {},
   "outputs": [
    {
     "data": {
      "text/plain": [
       "716      Yveltal\n",
       "717      Zygarde\n",
       "718      Diancie\n",
       "719        Hoopa\n",
       "720    Volcanion\n",
       "Name: Pokemon, dtype: object"
      ]
     },
     "execution_count": 42,
     "metadata": {},
     "output_type": "execute_result"
    }
   ],
   "source": [
    "pokemon.tail() #tail method gives us the last five rows of the series (case we want to check what the data looks like)\n",
    "\n",
    "#it returns the last five rows into a new series instead of the original one; creates a brand new shortened series\n",
    "\n",
    "#you can also write in the parenthesis the number of rows you want --> pokemon.tail(11)"
   ]
  },
  {
   "cell_type": "markdown",
   "id": "fifth-atlas",
   "metadata": {},
   "source": [
    "    BUILT IN SERIES FUNCTIONS"
   ]
  },
  {
   "cell_type": "code",
   "execution_count": 53,
   "id": "systematic-arrangement",
   "metadata": {},
   "outputs": [
    {
     "data": {
      "text/plain": [
       "721"
      ]
     },
     "execution_count": 53,
     "metadata": {},
     "output_type": "execute_result"
    }
   ],
   "source": [
    "len(pokemon) #gives the total number of rows in that series "
   ]
  },
  {
   "cell_type": "code",
   "execution_count": 50,
   "id": "false-spring",
   "metadata": {},
   "outputs": [
    {
     "data": {
      "text/plain": [
       "pandas.core.series.Series"
      ]
     },
     "execution_count": 50,
     "metadata": {},
     "output_type": "execute_result"
    }
   ],
   "source": [
    "type(pokemon) #gives the type of the series"
   ]
  },
  {
   "cell_type": "code",
   "execution_count": 57,
   "id": "included-blind",
   "metadata": {},
   "outputs": [
    {
     "data": {
      "text/plain": [
       "782.22"
      ]
     },
     "execution_count": 57,
     "metadata": {},
     "output_type": "execute_result"
    }
   ],
   "source": [
    " max(google_stocks) #gives the max value in the series"
   ]
  },
  {
   "cell_type": "code",
   "execution_count": 58,
   "id": "piano-child",
   "metadata": {},
   "outputs": [
    {
     "data": {
      "text/plain": [
       "49.95"
      ]
     },
     "execution_count": 58,
     "metadata": {},
     "output_type": "execute_result"
    }
   ],
   "source": [
    "min(google_stocks) #gives the minimum value in the series"
   ]
  },
  {
   "cell_type": "markdown",
   "id": "vertical-macro",
   "metadata": {},
   "source": [
    "MORE SERIES ATTRIBUTES --> gives details about the dataset or the series"
   ]
  },
  {
   "cell_type": "code",
   "execution_count": 60,
   "id": "fatal-sender",
   "metadata": {},
   "outputs": [
    {
     "data": {
      "text/plain": [
       "array([ 50.12,  54.1 ,  54.65, ..., 773.18, 771.61, 782.22])"
      ]
     },
     "execution_count": 60,
     "metadata": {},
     "output_type": "execute_result"
    }
   ],
   "source": [
    "google_stocks.values #resultant is an array of all the values in the series ; truncated array"
   ]
  },
  {
   "cell_type": "code",
   "execution_count": 61,
   "id": "ambient-laugh",
   "metadata": {},
   "outputs": [
    {
     "data": {
      "text/plain": [
       "RangeIndex(start=0, stop=3012, step=1)"
      ]
     },
     "execution_count": 61,
     "metadata": {},
     "output_type": "execute_result"
    }
   ],
   "source": [
    "google_stocks.index #resultant is a range index with starting index and the last index (excluded)"
   ]
  },
  {
   "cell_type": "code",
   "execution_count": 63,
   "id": "hydraulic-affiliation",
   "metadata": {},
   "outputs": [
    {
     "data": {
      "text/plain": [
       "False"
      ]
     },
     "execution_count": 63,
     "metadata": {},
     "output_type": "execute_result"
    }
   ],
   "source": [
    "google_stocks.is_unique #gives a boolean value as to whether all the elements in the series are unique or not\n"
   ]
  },
  {
   "cell_type": "code",
   "execution_count": 64,
   "id": "criminal-branch",
   "metadata": {},
   "outputs": [
    {
     "data": {
      "text/plain": [
       "1"
      ]
     },
     "execution_count": 64,
     "metadata": {},
     "output_type": "execute_result"
    }
   ],
   "source": [
    "pokemon.ndim #gives the number of dimensions in the series; a series is one dimensional, so the result here will be 1"
   ]
  },
  {
   "cell_type": "code",
   "execution_count": 66,
   "id": "talented-sellers",
   "metadata": {},
   "outputs": [
    {
     "data": {
      "text/plain": [
       "3012"
      ]
     },
     "execution_count": 66,
     "metadata": {},
     "output_type": "execute_result"
    }
   ],
   "source": [
    "google_stocks.size #gives the total number of elements or cells within the series; does count null values"
   ]
  },
  {
   "cell_type": "markdown",
   "id": "received-consortium",
   "metadata": {},
   "source": [
    "THE .sort_values() METHOD"
   ]
  },
  {
   "cell_type": "code",
   "execution_count": 69,
   "id": "criminal-teach",
   "metadata": {},
   "outputs": [
    {
     "data": {
      "text/plain": [
       "459    Abomasnow\n",
       "62          Abra\n",
       "358        Absol\n",
       "616     Accelgor\n",
       "680    Aegislash\n",
       "         ...    \n",
       "570      Zoroark\n",
       "569        Zorua\n",
       "40         Zubat\n",
       "633     Zweilous\n",
       "717      Zygarde\n",
       "Name: Pokemon, Length: 721, dtype: object"
      ]
     },
     "execution_count": 69,
     "metadata": {},
     "output_type": "execute_result"
    }
   ],
   "source": [
    "pokemon.sort_values() #values in alphabetical order; returns a brand new series object\n",
    "\n",
    "# pokemon.sort_values().head() --> method chaining; returns first five elements of the above the series"
   ]
  },
  {
   "cell_type": "code",
   "execution_count": 71,
   "id": "relative-improvement",
   "metadata": {},
   "outputs": [
    {
     "data": {
      "text/plain": [
       "3011    782.22\n",
       "2859    776.60\n",
       "3009    773.18\n",
       "3007    772.88\n",
       "3010    771.61\n",
       "         ...  \n",
       "12       50.74\n",
       "10       50.70\n",
       "0        50.12\n",
       "9        50.07\n",
       "11       49.95\n",
       "Name: Stock Price, Length: 3012, dtype: float64"
      ]
     },
     "execution_count": 71,
     "metadata": {},
     "output_type": "execute_result"
    }
   ],
   "source": [
    "google_stocks.sort_values(ascending=False) \n",
    "\n",
    "#values will be populated in descending order since the ascending alphabetical order is turned False"
   ]
  },
  {
   "cell_type": "code",
   "execution_count": 72,
   "id": "swedish-cause",
   "metadata": {},
   "outputs": [
    {
     "data": {
      "text/plain": [
       "3011    782.22\n",
       "Name: Stock Price, dtype: float64"
      ]
     },
     "execution_count": 72,
     "metadata": {},
     "output_type": "execute_result"
    }
   ],
   "source": [
    "#Find the Google Stock that has the highest values:\n",
    "\n",
    "google_stocks.sort_values(ascending=False).head(1)"
   ]
  },
  {
   "cell_type": "markdown",
   "id": "peripheral-intellectual",
   "metadata": {},
   "source": [
    "THE INPLACE PARAMETER"
   ]
  },
  {
   "cell_type": "code",
   "execution_count": 84,
   "id": "alpine-texas",
   "metadata": {
    "scrolled": true
   },
   "outputs": [
    {
     "data": {
      "text/plain": [
       "11       49.95\n",
       "9        50.07\n",
       "0        50.12\n",
       "10       50.70\n",
       "12       50.74\n",
       "         ...  \n",
       "3010    771.61\n",
       "3007    772.88\n",
       "3009    773.18\n",
       "2859    776.60\n",
       "3011    782.22\n",
       "Name: Stock Price, Length: 3012, dtype: float64"
      ]
     },
     "execution_count": 84,
     "metadata": {},
     "output_type": "execute_result"
    }
   ],
   "source": [
    "google_stocks.sort_values(ascending = True, inplace = True) \n",
    "#The inplace method will overwrite the series and store the sorted series\n",
    "\n",
    "google_stocks"
   ]
  },
  {
   "cell_type": "markdown",
   "id": "confirmed-netherlands",
   "metadata": {},
   "source": [
    "THE sort_index() METHOD"
   ]
  },
  {
   "cell_type": "code",
   "execution_count": 87,
   "id": "nonprofit-apollo",
   "metadata": {},
   "outputs": [
    {
     "data": {
      "text/plain": [
       "0       Bulbasaur\n",
       "1         Ivysaur\n",
       "2        Venusaur\n",
       "3      Charmander\n",
       "4      Charmeleon\n",
       "          ...    \n",
       "716       Yveltal\n",
       "717       Zygarde\n",
       "718       Diancie\n",
       "719         Hoopa\n",
       "720     Volcanion\n",
       "Name: Pokemon, Length: 721, dtype: object"
      ]
     },
     "execution_count": 87,
     "metadata": {},
     "output_type": "execute_result"
    }
   ],
   "source": [
    "pokemon.sort_index(ascending = True, inplace = True) #sorts according to the index\n",
    "pokemon"
   ]
  },
  {
   "cell_type": "markdown",
   "id": "owned-original",
   "metadata": {},
   "source": [
    "PYTHON'S in KEYWORD\n",
    "\n",
    "To check whether a value exists in either a series index or aomng the actual values of the series\n",
    "\n",
    "However, Pandas looks in the index column when you use the in method, so it is imperative that we use in method with 'Series Name'.values attribute to check whether that value exists or not. If you want to check the index, then in can work directly with series."
   ]
  },
  {
   "cell_type": "code",
   "execution_count": 89,
   "id": "accepting-allowance",
   "metadata": {},
   "outputs": [
    {
     "data": {
      "text/plain": [
       "0     Bulbasaur\n",
       "1       Ivysaur\n",
       "2      Venusaur\n",
       "3    Charmander\n",
       "4    Charmeleon\n",
       "Name: Pokemon, dtype: object"
      ]
     },
     "execution_count": 89,
     "metadata": {},
     "output_type": "execute_result"
    }
   ],
   "source": [
    "pokemon.head(5)"
   ]
  },
  {
   "cell_type": "code",
   "execution_count": 90,
   "id": "employed-imaging",
   "metadata": {},
   "outputs": [
    {
     "data": {
      "text/plain": [
       "True"
      ]
     },
     "execution_count": 90,
     "metadata": {},
     "output_type": "execute_result"
    }
   ],
   "source": [
    "'Bulbasaur' in pokemon.values #check in the values attribute"
   ]
  },
  {
   "cell_type": "markdown",
   "id": "comic-municipality",
   "metadata": {},
   "source": [
    "EXTRACTING VALUES BY INDEX POSITION"
   ]
  },
  {
   "cell_type": "code",
   "execution_count": 93,
   "id": "afraid-asset",
   "metadata": {},
   "outputs": [
    {
     "data": {
      "text/plain": [
       "99        Voltorb\n",
       "199    Misdreavus\n",
       "299        Skitty\n",
       "399       Bibarel\n",
       "Name: Pokemon, dtype: object"
      ]
     },
     "execution_count": 93,
     "metadata": {},
     "output_type": "execute_result"
    }
   ],
   "source": [
    "pokemon[1] #gives the pokemon at first index\n",
    "\n",
    "pokemon[[99, 199, 299, 399]] #pokemon at 99, 199, 299, 399 index\n",
    "\n",
    "pokemon[50:100] #pokemon between 50 and 99, one after colon is excluded"
   ]
  },
  {
   "cell_type": "markdown",
   "id": "demonstrated-realtor",
   "metadata": {},
   "source": [
    "EXTRACTING VALUES BY INDEX LABEL"
   ]
  },
  {
   "cell_type": "code",
   "execution_count": 96,
   "id": "attended-recycling",
   "metadata": {},
   "outputs": [],
   "source": [
    "#creating a new series where name of the pokemon is the index\n",
    "\n",
    "pokemon2 = pd.read_csv('pandas/pokemon.csv', index_col = 'Pokemon', squeeze = True) "
   ]
  },
  {
   "cell_type": "code",
   "execution_count": 97,
   "id": "billion-charlotte",
   "metadata": {},
   "outputs": [
    {
     "data": {
      "text/plain": [
       "Pokemon\n",
       "Bulbasaur       Grass\n",
       "Ivysaur         Grass\n",
       "Venusaur        Grass\n",
       "Charmander       Fire\n",
       "Charmeleon       Fire\n",
       "               ...   \n",
       "Yveltal          Dark\n",
       "Zygarde        Dragon\n",
       "Diancie          Rock\n",
       "Hoopa         Psychic\n",
       "Volcanion        Fire\n",
       "Name: Type, Length: 721, dtype: object"
      ]
     },
     "execution_count": 97,
     "metadata": {},
     "output_type": "execute_result"
    }
   ],
   "source": [
    "pokemon2"
   ]
  },
  {
   "cell_type": "code",
   "execution_count": 99,
   "id": "material-class",
   "metadata": {},
   "outputs": [
    {
     "data": {
      "text/plain": [
       "'Electric'"
      ]
     },
     "execution_count": 99,
     "metadata": {},
     "output_type": "execute_result"
    }
   ],
   "source": [
    "pokemon2['Pikachu'] #instead of the index position, we gave the index label to get the value associated with it"
   ]
  },
  {
   "cell_type": "markdown",
   "id": "optional-korea",
   "metadata": {},
   "source": [
    "THE .get() METHOD ON A SERIES"
   ]
  },
  {
   "cell_type": "code",
   "execution_count": 101,
   "id": "industrial-batch",
   "metadata": {},
   "outputs": [
    {
     "data": {
      "text/plain": [
       "Pokemon\n",
       "Abomasnow      Grass\n",
       "Abra         Psychic\n",
       "Absol           Dark\n",
       "Name: Type, dtype: object"
      ]
     },
     "execution_count": 101,
     "metadata": {},
     "output_type": "execute_result"
    }
   ],
   "source": [
    "pokemon3 = pd.read_csv('pandas/pokemon.csv', index_col = 'Pokemon', squeeze = True)\n",
    "pokemon3.sort_index(inplace=True)\n",
    "pokemon3.head(3)"
   ]
  },
  {
   "cell_type": "code",
   "execution_count": 106,
   "id": "thirty-ceiling",
   "metadata": {},
   "outputs": [
    {
     "data": {
      "text/plain": [
       "Pokemon\n",
       "Abomasnow     Grass\n",
       "Aerodactyl     Rock\n",
       "Name: Type, dtype: object"
      ]
     },
     "execution_count": 106,
     "metadata": {},
     "output_type": "execute_result"
    }
   ],
   "source": [
    "pokemon3.get(0)#the parameter is a key which can be an index position or a label\n",
    "\n",
    "pokemon3.get('Pikachu') #label\n",
    "\n",
    "pokemon3.get([0,5]) #list of index positions or labels"
   ]
  },
  {
   "cell_type": "code",
   "execution_count": 107,
   "id": "advisory-norway",
   "metadata": {},
   "outputs": [
    {
     "data": {
      "text/plain": [
       "'This is not a Pokemon'"
      ]
     },
     "execution_count": 107,
     "metadata": {},
     "output_type": "execute_result"
    }
   ],
   "source": [
    "#if you enter an index position or label that does not exist, the default parameter in that case would be null, \n",
    "#however, that can be changed and can be defined; default is the fall back option\n",
    "\n",
    "\n",
    "pokemon3.get(1000, default = 'This is not a Pokemon')#since 1000 index does not exist, default comes into play"
   ]
  },
  {
   "cell_type": "markdown",
   "id": "short-exemption",
   "metadata": {},
   "source": [
    " MATH METHODS ON SERIES OBJECTS"
   ]
  },
  {
   "cell_type": "code",
   "execution_count": 110,
   "id": "cultural-chase",
   "metadata": {},
   "outputs": [
    {
     "data": {
      "text/plain": [
       "3012"
      ]
     },
     "execution_count": 110,
     "metadata": {},
     "output_type": "execute_result"
    }
   ],
   "source": [
    "#using the google_stock series in this \n",
    "\n",
    "google_stocks.count() #gives number of valid values within the series; count excluded null or missing values"
   ]
  },
  {
   "cell_type": "code",
   "execution_count": 112,
   "id": "funded-bidding",
   "metadata": {},
   "outputs": [
    {
     "data": {
      "text/plain": [
       "1006942.0"
      ]
     },
     "execution_count": 112,
     "metadata": {},
     "output_type": "execute_result"
    }
   ],
   "source": [
    "google_stocks.sum() #sum of all values in the series"
   ]
  },
  {
   "cell_type": "code",
   "execution_count": 113,
   "id": "framed-connecticut",
   "metadata": {},
   "outputs": [
    {
     "data": {
      "text/plain": [
       "334.31009296148756"
      ]
     },
     "execution_count": 113,
     "metadata": {},
     "output_type": "execute_result"
    }
   ],
   "source": [
    "google_stocks.mean() #mean of all values in the series"
   ]
  },
  {
   "cell_type": "code",
   "execution_count": 114,
   "id": "superb-occurrence",
   "metadata": {},
   "outputs": [
    {
     "data": {
      "text/plain": [
       "173.18720477113106"
      ]
     },
     "execution_count": 114,
     "metadata": {},
     "output_type": "execute_result"
    }
   ],
   "source": [
    "google_stocks.std() #standard deviation of all the values in the series; avg distance between a value and mean of Series"
   ]
  },
  {
   "cell_type": "code",
   "execution_count": 115,
   "id": "imperial-cosmetic",
   "metadata": {},
   "outputs": [
    {
     "data": {
      "text/plain": [
       "782.22"
      ]
     },
     "execution_count": 115,
     "metadata": {},
     "output_type": "execute_result"
    }
   ],
   "source": [
    "google_stocks.max() #max value"
   ]
  },
  {
   "cell_type": "code",
   "execution_count": 116,
   "id": "recognized-houston",
   "metadata": {},
   "outputs": [
    {
     "data": {
      "text/plain": [
       "49.95"
      ]
     },
     "execution_count": 116,
     "metadata": {},
     "output_type": "execute_result"
    }
   ],
   "source": [
    "google_stocks.min() #min value"
   ]
  },
  {
   "cell_type": "code",
   "execution_count": 118,
   "id": "isolated-martial",
   "metadata": {},
   "outputs": [
    {
     "data": {
      "text/plain": [
       "283.315"
      ]
     },
     "execution_count": 118,
     "metadata": {},
     "output_type": "execute_result"
    }
   ],
   "source": [
    "google_stocks.median() #middle value in the series"
   ]
  },
  {
   "cell_type": "code",
   "execution_count": 120,
   "id": "olympic-national",
   "metadata": {},
   "outputs": [
    {
     "data": {
      "text/plain": [
       "count    3012.000000\n",
       "mean      334.310093\n",
       "std       173.187205\n",
       "min        49.950000\n",
       "25%       218.045000\n",
       "50%       283.315000\n",
       "75%       443.000000\n",
       "max       782.220000\n",
       "Name: Stock Price, dtype: float64"
      ]
     },
     "execution_count": 120,
     "metadata": {},
     "output_type": "execute_result"
    }
   ],
   "source": [
    "google_stocks.describe() #stat function that describes metrics of the series"
   ]
  },
  {
   "cell_type": "markdown",
   "id": "human-rainbow",
   "metadata": {},
   "source": [
    "THE .value_counts() METHOD\n",
    "\n",
    "If we want to get a count of all the unique values that occur in a series, we can use the above function"
   ]
  },
  {
   "cell_type": "code",
   "execution_count": 121,
   "id": "white-winning",
   "metadata": {},
   "outputs": [
    {
     "data": {
      "text/plain": [
       "Water       105\n",
       "Normal       93\n",
       "Grass        66\n",
       "Bug          63\n",
       "Fire         47\n",
       "Psychic      47\n",
       "Rock         41\n",
       "Electric     36\n",
       "Ground       30\n",
       "Poison       28\n",
       "Dark         28\n",
       "Fighting     25\n",
       "Dragon       24\n",
       "Ice          23\n",
       "Ghost        23\n",
       "Steel        22\n",
       "Fairy        17\n",
       "Flying        3\n",
       "Name: Type, dtype: int64"
      ]
     },
     "execution_count": 121,
     "metadata": {},
     "output_type": "execute_result"
    }
   ],
   "source": [
    "pokemon3.value_counts()"
   ]
  },
  {
   "cell_type": "code",
   "execution_count": 124,
   "id": "dated-check",
   "metadata": {},
   "outputs": [
    {
     "data": {
      "text/plain": [
       "721"
      ]
     },
     "execution_count": 124,
     "metadata": {},
     "output_type": "execute_result"
    }
   ],
   "source": [
    "pokemon3.value_counts().sum() #sum of all the counts; basically all the values minus Null and missing fields"
   ]
  },
  {
   "cell_type": "markdown",
   "id": "designing-pastor",
   "metadata": {},
   "source": [
    "THE SERIES #MAP METHOD\n",
    "\n",
    "Maps the values of a series to another collection of data"
   ]
  },
  {
   "cell_type": "code",
   "execution_count": 127,
   "id": "prescribed-basin",
   "metadata": {},
   "outputs": [
    {
     "data": {
      "text/plain": [
       "0       Bulbasaur\n",
       "1         Ivysaur\n",
       "2        Venusaur\n",
       "3      Charmander\n",
       "4      Charmeleon\n",
       "          ...    \n",
       "716       Yveltal\n",
       "717       Zygarde\n",
       "718       Diancie\n",
       "719         Hoopa\n",
       "720     Volcanion\n",
       "Name: Pokemon, Length: 721, dtype: object"
      ]
     },
     "execution_count": 127,
     "metadata": {},
     "output_type": "execute_result"
    }
   ],
   "source": [
    "pokemon_names = pd.read_csv('pandas/pokemon.csv', usecols = ['Pokemon'], squeeze = 'True')\n",
    "pokemon_names"
   ]
  },
  {
   "cell_type": "code",
   "execution_count": 129,
   "id": "expired-latin",
   "metadata": {},
   "outputs": [
    {
     "data": {
      "text/plain": [
       "Pokemon\n",
       "Bulbasaur       Grass\n",
       "Ivysaur         Grass\n",
       "Venusaur        Grass\n",
       "Charmander       Fire\n",
       "Charmeleon       Fire\n",
       "               ...   \n",
       "Yveltal          Dark\n",
       "Zygarde        Dragon\n",
       "Diancie          Rock\n",
       "Hoopa         Psychic\n",
       "Volcanion        Fire\n",
       "Name: Type, Length: 721, dtype: object"
      ]
     },
     "execution_count": 129,
     "metadata": {},
     "output_type": "execute_result"
    }
   ],
   "source": [
    "pokemon_types = pd.read_csv('pandas/pokemon.csv', index_col = 'Pokemon', squeeze = True)\n",
    "pokemon_types"
   ]
  },
  {
   "cell_type": "code",
   "execution_count": 130,
   "id": "moved-gentleman",
   "metadata": {},
   "outputs": [
    {
     "data": {
      "text/plain": [
       "0        Grass\n",
       "1        Grass\n",
       "2        Grass\n",
       "3         Fire\n",
       "4         Fire\n",
       "        ...   \n",
       "716       Dark\n",
       "717     Dragon\n",
       "718       Rock\n",
       "719    Psychic\n",
       "720       Fire\n",
       "Name: Pokemon, Length: 721, dtype: object"
      ]
     },
     "execution_count": 130,
     "metadata": {},
     "output_type": "execute_result"
    }
   ],
   "source": [
    "pokemon_names.map(pokemon_types) \n",
    "\n",
    "#it takes the index position of our first series 'names' and map it to values of our second series 'types'"
   ]
  },
  {
   "cell_type": "code",
   "execution_count": null,
   "id": "described-companion",
   "metadata": {},
   "outputs": [],
   "source": []
  }
 ],
 "metadata": {
  "kernelspec": {
   "display_name": "Python 3",
   "language": "python",
   "name": "python3"
  },
  "language_info": {
   "codemirror_mode": {
    "name": "ipython",
    "version": 3
   },
   "file_extension": ".py",
   "mimetype": "text/x-python",
   "name": "python",
   "nbconvert_exporter": "python",
   "pygments_lexer": "ipython3",
   "version": "3.8.5"
  }
 },
 "nbformat": 4,
 "nbformat_minor": 5
}
